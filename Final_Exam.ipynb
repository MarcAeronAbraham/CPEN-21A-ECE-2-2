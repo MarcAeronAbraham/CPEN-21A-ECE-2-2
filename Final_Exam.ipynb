{
  "nbformat": 4,
  "nbformat_minor": 0,
  "metadata": {
    "colab": {
      "name": "Final Exam.ipynb",
      "provenance": [],
      "collapsed_sections": [],
      "authorship_tag": "ABX9TyMhMsfvkOU1hmmrRa3RN0aU",
      "include_colab_link": true
    },
    "kernelspec": {
      "name": "python3",
      "display_name": "Python 3"
    },
    "language_info": {
      "name": "python"
    }
  },
  "cells": [
    {
      "cell_type": "markdown",
      "metadata": {
        "id": "view-in-github",
        "colab_type": "text"
      },
      "source": [
        "<a href=\"https://colab.research.google.com/github/MarcAeronAbraham/CPEN-21A-ECE-2-2/blob/main/Final_Exam.ipynb\" target=\"_parent\"><img src=\"https://colab.research.google.com/assets/colab-badge.svg\" alt=\"Open In Colab\"/></a>"
      ]
    },
    {
      "cell_type": "markdown",
      "source": [
        "#**Final Exam**"
      ],
      "metadata": {
        "id": "WPfIxMbG0bZ3"
      }
    },
    {
      "cell_type": "markdown",
      "source": [
        "###Problem Statement 1.\n",
        "#####Create a Python program that will produce an output of sum of 10 numbers less than 5 using FOR LOOP statement."
      ],
      "metadata": {
        "id": "uToWGUjC0iJL"
      }
    },
    {
      "cell_type": "code",
      "source": [
        "#INITIALIZE\n",
        "import random                       #IMPORT A FUNCTION random\n",
        "def randnums():                     #DEFINE FUNCTION randnums\n",
        "  numbers=[]\n",
        "  \n",
        "#PROCESS\n",
        "  for count in range(10):           #LIMIT THE NUMBER OF ELEMENTS 10\n",
        "    number = random.randint(0,4)    #GIVE A RANDOM NUMBER THAT IS LESS THAN 5 (0 to 4)\n",
        "    numbers.append(number)          #ADDS THE RANDOM NUMBER TO THE LIST\n",
        "  SUM = sum(numbers)                #ADDS ALL NUMBERS\n",
        "\n",
        "#OUTPUT\n",
        "  print(numbers)\n",
        "  print(\"The Sum of All the Numbers is: \"+ str(SUM))\n",
        "  \n",
        "randnums()"
      ],
      "metadata": {
        "colab": {
          "base_uri": "https://localhost:8080/"
        },
        "id": "h6dJOvemVQ5A",
        "outputId": "d7653de5-5b8d-45d6-99d1-e1fd31b6f3c1"
      },
      "execution_count": 61,
      "outputs": [
        {
          "output_type": "stream",
          "name": "stdout",
          "text": [
            "[0, 1, 0, 3, 4, 1, 1, 3, 4, 1]\n",
            "The Sum of All the Numbers is: 18\n"
          ]
        }
      ]
    },
    {
      "cell_type": "markdown",
      "source": [
        "###Problem Statement 2.\n",
        "####Create a Python program that will produce accept five numbers and determine the sum of first and last number among the five numbers entered using WHILE LOOP"
      ],
      "metadata": {
        "id": "l-3iHRY-276_"
      }
    },
    {
      "cell_type": "code",
      "source": [
        "#INITIALIZE\n",
        "NUM=[]\n",
        "i=0\n",
        "\n",
        "#PROCESS\n",
        "while i<5:\n",
        "  NUM.append(float(input(\"Enter a Number: \")))    #INPUT\n",
        "  i+=1\n",
        "\n",
        "SUM=NUM[0]+NUM[4]                                 #ADDS THE FIRST AND LAST NUMBER INPUTTED\n",
        "\n",
        "#OUTPUT\n",
        "print(\"Sum of First and Last Number is: \" +str(SUM))"
      ],
      "metadata": {
        "colab": {
          "base_uri": "https://localhost:8080/"
        },
        "id": "0FcS5jNeVQlH",
        "outputId": "0fcf5ca3-07bd-4bc0-fdc7-540a5428044c"
      },
      "execution_count": 58,
      "outputs": [
        {
          "output_type": "stream",
          "name": "stdout",
          "text": [
            "Enter a Number: 1\n",
            "Enter a Number: 2\n",
            "Enter a Number: 3.3\n",
            "Enter a Number: 4\n",
            "Enter a Number: 8.9\n",
            "Sum of First and Last Number is: 9.9\n"
          ]
        }
      ]
    },
    {
      "cell_type": "markdown",
      "source": [
        "###Problem Statement 3.\n",
        "####Create a Python program to calculate student grades. It accepts a numerical grade as input and it will display the character grade as output based on the given scale:"
      ],
      "metadata": {
        "id": "fDjSk-062-Ze"
      }
    },
    {
      "cell_type": "code",
      "source": [
        "#INPUT\n",
        "Grade=float(input(\"Numerical Grade:\"))\n",
        "\n",
        "#PROCESS & OUTPUT\n",
        "if Grade >=0 and Grade <=100:\n",
        "  if Grade >= 90 and Grade <= 100:          \n",
        "    print(\"Character Grade is A\")\n",
        "  else:\n",
        "    if Grade >= 80 and Grade <= 89:\n",
        "      print(\"Character Grade is B\")\n",
        "    else:\n",
        "      if Grade >= 70 and Grade <= 79:\n",
        "        print(\"Character Grade is C\")\n",
        "      else:\n",
        "        if Grade >= 60 and Grade <= 69:\n",
        "          print(\"Character Grade is D\")\n",
        "        else:                                         #RANGE IS BELOW 60, CHARACTER GRADE IS F\n",
        "          print(\"Character Grade is F\")\n",
        "else:                                                 #ERROR MESSAGE (WHEN THE INPUT IS ABOVE 100 OR NEGATIVE)\n",
        "  print(\"There's something wrong in your input!!!\")"
      ],
      "metadata": {
        "colab": {
          "base_uri": "https://localhost:8080/"
        },
        "id": "SogwUSSBpPn2",
        "outputId": "b051f670-f581-46e3-c48c-1820662d3bb8"
      },
      "execution_count": 63,
      "outputs": [
        {
          "output_type": "stream",
          "name": "stdout",
          "text": [
            "Numerical Grade:68.9\n",
            "Character Grade is D\n"
          ]
        }
      ]
    }
  ]
}