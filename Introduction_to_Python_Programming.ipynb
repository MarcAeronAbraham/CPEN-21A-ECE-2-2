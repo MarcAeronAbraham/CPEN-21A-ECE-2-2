{
  "nbformat": 4,
  "nbformat_minor": 0,
  "metadata": {
    "colab": {
      "name": "Introduction to Python Programming.ipynb",
      "provenance": [],
      "authorship_tag": "ABX9TyONT/p2dw63a3VgMvL+RWSU",
      "include_colab_link": true
    },
    "kernelspec": {
      "name": "python3",
      "display_name": "Python 3"
    },
    "language_info": {
      "name": "python"
    }
  },
  "cells": [
    {
      "cell_type": "markdown",
      "metadata": {
        "id": "view-in-github",
        "colab_type": "text"
      },
      "source": [
        "<a href=\"https://colab.research.google.com/github/MarcAeronAbraham/CPEN-ECE-2-2/blob/main/Introduction_to_Python_Programming.ipynb\" target=\"_parent\"><img src=\"https://colab.research.google.com/assets/colab-badge.svg\" alt=\"Open In Colab\"/></a>"
      ]
    },
    {
      "cell_type": "markdown",
      "metadata": {
        "id": "wfKVinHgzEge"
      },
      "source": [
        "#Review of Python Programming"
      ]
    },
    {
      "cell_type": "code",
      "metadata": {
        "colab": {
          "base_uri": "https://localhost:8080/"
        },
        "id": "j1vpF7NDy-ng",
        "outputId": "b7ff0a22-f73a-47e5-cebe-713f9ef66331"
      },
      "source": [
        "print(\"Hello World\")"
      ],
      "execution_count": null,
      "outputs": [
        {
          "output_type": "stream",
          "name": "stdout",
          "text": [
            "Hello World\n"
          ]
        }
      ]
    },
    {
      "cell_type": "code",
      "metadata": {
        "colab": {
          "base_uri": "https://localhost:8080/"
        },
        "id": "bUPIDK_8zMUk",
        "outputId": "680f23be-95ad-4b8d-ad29-26ad064dceb5"
      },
      "source": [
        "name= \"Marc Aeron F. Abraham\"\n",
        "print(\"My name is \"+ name)"
      ],
      "execution_count": null,
      "outputs": [
        {
          "output_type": "stream",
          "name": "stdout",
          "text": [
            "My name is Marc Aeron F. Abraham\n"
          ]
        }
      ]
    },
    {
      "cell_type": "code",
      "metadata": {
        "colab": {
          "base_uri": "https://localhost:8080/"
        },
        "id": "8-HSNAph0iJC",
        "outputId": "d2520de6-6e57-4a5f-f8dd-a2fc34d1be84"
      },
      "source": [
        "x=4\n",
        "y='Sally'\n",
        "print(type(x))\n",
        "print(type(y))"
      ],
      "execution_count": null,
      "outputs": [
        {
          "output_type": "stream",
          "name": "stdout",
          "text": [
            "<class 'int'>\n",
            "<class 'str'>\n"
          ]
        }
      ]
    },
    {
      "cell_type": "code",
      "metadata": {
        "colab": {
          "base_uri": "https://localhost:8080/"
        },
        "id": "HayxG3EHzYZC",
        "outputId": "5bd3bf4e-ad72-4671-fe32-a0d142ed0883"
      },
      "source": [
        "b=int(4)\n",
        "c=float(4)\n",
        "print(b)\n",
        "print(c)"
      ],
      "execution_count": null,
      "outputs": [
        {
          "output_type": "stream",
          "name": "stdout",
          "text": [
            "4\n",
            "4.0\n"
          ]
        }
      ]
    },
    {
      "cell_type": "code",
      "metadata": {
        "colab": {
          "base_uri": "https://localhost:8080/"
        },
        "id": "TYc8Tob-0O2i",
        "outputId": "9376f31d-0430-4d93-9cef-00eb19ce6dbd"
      },
      "source": [
        "x,y=3,4\n",
        "sum=x+y\n",
        "print(sum)"
      ],
      "execution_count": null,
      "outputs": [
        {
          "output_type": "stream",
          "name": "stdout",
          "text": [
            "7\n"
          ]
        }
      ]
    },
    {
      "cell_type": "code",
      "metadata": {
        "colab": {
          "base_uri": "https://localhost:8080/"
        },
        "id": "qQrjvRoqzou9",
        "outputId": "b729c332-2ac8-4556-fbb4-0f14f4cfc5ec"
      },
      "source": [
        "x= 'python '\n",
        "y='is '\n",
        "z='enjoyable!'\n",
        "print(x+y+z)"
      ],
      "execution_count": null,
      "outputs": [
        {
          "output_type": "stream",
          "name": "stdout",
          "text": [
            "python is enjoyable!\n"
          ]
        }
      ]
    },
    {
      "cell_type": "code",
      "metadata": {
        "colab": {
          "base_uri": "https://localhost:8080/"
        },
        "id": "_IY-7nLc00Cq",
        "outputId": "3a697e3b-f468-41bc-8fad-b2cdaa1cace8"
      },
      "source": [
        "x=2\n",
        "x<3 and x>0"
      ],
      "execution_count": null,
      "outputs": [
        {
          "output_type": "execute_result",
          "data": {
            "text/plain": [
              "True"
            ]
          },
          "metadata": {},
          "execution_count": 19
        }
      ]
    },
    {
      "cell_type": "code",
      "metadata": {
        "colab": {
          "base_uri": "https://localhost:8080/"
        },
        "id": "QjHajjvZz6uT",
        "outputId": "58191e71-729e-4c48-d32b-f4eebcd30b0c"
      },
      "source": [
        "x=5\n",
        "x>3 or x<4"
      ],
      "execution_count": null,
      "outputs": [
        {
          "output_type": "execute_result",
          "data": {
            "text/plain": [
              "True"
            ]
          },
          "metadata": {},
          "execution_count": 9
        }
      ]
    },
    {
      "cell_type": "code",
      "metadata": {
        "colab": {
          "base_uri": "https://localhost:8080/"
        },
        "id": "VdNsISEG0FLz",
        "outputId": "68e4002d-34bf-497c-dc11-b64c6e9ad9dd"
      },
      "source": [
        "a,b,c=0,-1,6\n",
        "c%=2\n",
        "print(c)"
      ],
      "execution_count": null,
      "outputs": [
        {
          "output_type": "stream",
          "name": "stdout",
          "text": [
            "0\n"
          ]
        }
      ]
    }
  ]
}