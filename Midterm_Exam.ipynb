{
  "nbformat": 4,
  "nbformat_minor": 0,
  "metadata": {
    "colab": {
      "name": "Midterm Exam.ipynb",
      "provenance": [],
      "authorship_tag": "ABX9TyNKaUEzBfQSFBd9aZycOYH1",
      "include_colab_link": true
    },
    "kernelspec": {
      "name": "python3",
      "display_name": "Python 3"
    },
    "language_info": {
      "name": "python"
    }
  },
  "cells": [
    {
      "cell_type": "markdown",
      "metadata": {
        "id": "view-in-github",
        "colab_type": "text"
      },
      "source": [
        "<a href=\"https://colab.research.google.com/github/MarcAeronAbraham/CPEN-21A-ECE-2-2/blob/main/Midterm_Exam.ipynb\" target=\"_parent\"><img src=\"https://colab.research.google.com/assets/colab-badge.svg\" alt=\"Open In Colab\"/></a>"
      ]
    },
    {
      "cell_type": "markdown",
      "metadata": {
        "id": "RjGLLNCSrnhX"
      },
      "source": [
        "#Midterm Exam"
      ]
    },
    {
      "cell_type": "markdown",
      "metadata": {
        "id": "TgTkXAnHum7M"
      },
      "source": [
        "### PROBLEM STATEMENT 1. "
      ]
    },
    {
      "cell_type": "code",
      "metadata": {
        "colab": {
          "base_uri": "https://localhost:8080/"
        },
        "id": "Mh_RQubRq18s",
        "outputId": "28a85e87-fa2d-4dd3-8b73-41cb4fce9b73"
      },
      "source": [
        "#INPUT\n",
        "a = \"Marc Aeron F. Abraham\"\n",
        "b = \"202013709\"\n",
        "c = \"19 years old\"\n",
        "d = \"January 03, 2002\"\n",
        "e = \"Pamela Homes Subdivision, Langkaan 1, Dasmarinas, Cavite\"\n",
        "f = \"Bachelor of Science in Electronics and Communications Engineering (BSECE)\"\n",
        "g = \"1.33\"\n",
        "\n",
        "#OUTPUT\n",
        "print(\"Name: \"+ a)\n",
        "print(\"Student Number: \"+ b)\n",
        "print(\"Age: \"+ c)\n",
        "print(\"Birthday: \"+ d)\n",
        "print(\"Address: \"+ e)\n",
        "print(\"Course: \"+ f)\n",
        "print(\"Last Sem GWA: \"+ g)"
      ],
      "execution_count": null,
      "outputs": [
        {
          "output_type": "stream",
          "name": "stdout",
          "text": [
            "Name: Marc Aeron F. Abraham\n",
            "Student Number: 202013709\n",
            "Age: 19 years old\n",
            "Birthday: January 03, 2002\n",
            "Address: Pamela Homes Subdivision, Langkaan 1, Dasmarinas, Cavite\n",
            "Course: Bachelor of Science in Electronics and Communications Engineering (BSECE)\n",
            "Last Sem GWA: 1.33\n"
          ]
        }
      ]
    },
    {
      "cell_type": "markdown",
      "metadata": {
        "id": "de4Ps0L2ushD"
      },
      "source": [
        "### PROBLEM STATEMENT 2."
      ]
    },
    {
      "cell_type": "code",
      "metadata": {
        "colab": {
          "base_uri": "https://localhost:8080/"
        },
        "id": "H2SBs4OIs0TV",
        "outputId": "cd9be295-88a3-4c82-88d2-ce922ce5b41a"
      },
      "source": [
        "#INPUT\n",
        "n = 4\n",
        "answ = \"Y\"\n",
        "\n",
        "#PROCESS\n",
        "a = (2<n) and (n<6)\n",
        "b = (2<n) or (n==6)\n",
        "c = not(2<n) or (n==6)\n",
        "d = not(n<6)\n",
        "e = (answ==\"Y\") or (answ==\"y\")\n",
        "f = (answ==\"Y\") and (answ==\"y\")\n",
        "g = not(answ==\"y\")\n",
        "h = ((2<n)and(n==5+1)) or (answ==\"No\")\n",
        "i = ((n==2) and (n==7)) or (answ==\"Y\")\n",
        "j = (n==2) and ((n==7) or (answ==\"Y\"))\n",
        "\n",
        "#OUTPUT\n",
        "print(a)\n",
        "print(b)\n",
        "print(c)\n",
        "print(d)\n",
        "print(e)\n",
        "print(f)\n",
        "print(g)\n",
        "print(h)\n",
        "print(i)\n",
        "print(j)"
      ],
      "execution_count": null,
      "outputs": [
        {
          "output_type": "stream",
          "name": "stdout",
          "text": [
            "True\n",
            "True\n",
            "False\n",
            "False\n",
            "True\n",
            "False\n",
            "True\n",
            "False\n",
            "True\n",
            "False\n"
          ]
        }
      ]
    },
    {
      "cell_type": "markdown",
      "metadata": {
        "id": "gS_yLk60uvOL"
      },
      "source": [
        "### PROBLEM STATEMENT 3."
      ]
    },
    {
      "cell_type": "code",
      "metadata": {
        "colab": {
          "base_uri": "https://localhost:8080/"
        },
        "id": "lXUNQlK4tWXk",
        "outputId": "ab9573ea-b4ab-4ab5-cae3-821861de8d3f"
      },
      "source": [
        "#INPUT\n",
        "x, y, w, z = 2, -3, 7, -10\n",
        "\n",
        "#PROCESS\n",
        "a = x/y \n",
        "b = w/y/x\n",
        "c = z/y%x\n",
        "d = x%-y*w\n",
        "e = x%y\n",
        "f= z%w-y/x*5+5\n",
        "g = 9-x%(2+y)\n",
        "h = z//w\n",
        "i = (2+y)**2\n",
        "j = w/x*2\n",
        "\n",
        "#OUTPUT\n",
        "print(a)\n",
        "print(b)\n",
        "print(c)\n",
        "print(d)\n",
        "print(e)\n",
        "print(f)\n",
        "print(g)\n",
        "print(h)\n",
        "print(i)\n",
        "print(j)"
      ],
      "execution_count": null,
      "outputs": [
        {
          "output_type": "stream",
          "name": "stdout",
          "text": [
            "-0.6666666666666666\n",
            "-1.1666666666666667\n",
            "1.3333333333333335\n",
            "14\n",
            "-1\n",
            "16.5\n",
            "9\n",
            "-2\n",
            "1\n",
            "7.0\n"
          ]
        }
      ]
    }
  ]
}