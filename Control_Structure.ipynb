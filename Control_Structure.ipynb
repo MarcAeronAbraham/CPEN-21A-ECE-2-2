{
  "nbformat": 4,
  "nbformat_minor": 0,
  "metadata": {
    "colab": {
      "name": "Control Structure.ipynb",
      "provenance": [],
      "authorship_tag": "ABX9TyMx0w+UU9+QRll3PR265HtD",
      "include_colab_link": true
    },
    "kernelspec": {
      "name": "python3",
      "display_name": "Python 3"
    },
    "language_info": {
      "name": "python"
    }
  },
  "cells": [
    {
      "cell_type": "markdown",
      "metadata": {
        "id": "view-in-github",
        "colab_type": "text"
      },
      "source": [
        "<a href=\"https://colab.research.google.com/github/MarcAeronAbraham/CPEN-21A-ECE-2-2/blob/main/Control_Structure.ipynb\" target=\"_parent\"><img src=\"https://colab.research.google.com/assets/colab-badge.svg\" alt=\"Open In Colab\"/></a>"
      ]
    },
    {
      "cell_type": "markdown",
      "metadata": {
        "id": "hmGhPTRnxUV7"
      },
      "source": [
        "##If Statement"
      ]
    },
    {
      "cell_type": "code",
      "metadata": {
        "colab": {
          "base_uri": "https://localhost:8080/"
        },
        "id": "Ps09JgErxRdd",
        "outputId": "40ca6b54-0da5-420e-8e8e-029076398e3b"
      },
      "source": [
        "a = 12\n",
        "b = 100\n",
        "\n",
        "if b > a:\n",
        "  print(\"b is greater than a\")"
      ],
      "execution_count": 1,
      "outputs": [
        {
          "output_type": "stream",
          "name": "stdout",
          "text": [
            "b is greater than a\n"
          ]
        }
      ]
    },
    {
      "cell_type": "markdown",
      "metadata": {
        "id": "p0iBOZPTyj7J"
      },
      "source": [
        "##Elif Statement"
      ]
    },
    {
      "cell_type": "code",
      "metadata": {
        "colab": {
          "base_uri": "https://localhost:8080/"
        },
        "id": "DXtQ2HQwybFL",
        "outputId": "cc35c365-aec8-49ad-a2cc-8905269e460e"
      },
      "source": [
        "a = 12\n",
        "b = 100\n",
        "\n",
        "if b<a:\n",
        "  print(\"b is less than a\")\n",
        "elif a<b:\n",
        "  print(\"b is greater than b\")"
      ],
      "execution_count": 2,
      "outputs": [
        {
          "output_type": "stream",
          "name": "stdout",
          "text": [
            "b is greater than b\n"
          ]
        }
      ]
    },
    {
      "cell_type": "markdown",
      "metadata": {
        "id": "yc1ku_8UzRey"
      },
      "source": [
        "##Else Statement"
      ]
    },
    {
      "cell_type": "code",
      "metadata": {
        "colab": {
          "base_uri": "https://localhost:8080/"
        },
        "id": "sDEOspPBzVRC",
        "outputId": "6ede7030-8441-427b-cff1-3ec5dbeb51b7"
      },
      "source": [
        "a = 12\n",
        "b = 12\n",
        "\n",
        "if b<a:\n",
        "  print(\"b is less than a\")\n",
        "elif a<b:\n",
        "  print(\"b is greater than b\")\n",
        "else:\n",
        "  print(\"a is equal to b\")"
      ],
      "execution_count": 3,
      "outputs": [
        {
          "output_type": "stream",
          "name": "stdout",
          "text": [
            "a is equal to b\n"
          ]
        }
      ]
    },
    {
      "cell_type": "markdown",
      "metadata": {
        "id": "PCxOHC8HzlOh"
      },
      "source": [
        "##Short Hand If"
      ]
    },
    {
      "cell_type": "code",
      "metadata": {
        "colab": {
          "base_uri": "https://localhost:8080/"
        },
        "id": "pGTf0W_ezsd6",
        "outputId": "e0a3bdb5-41b1-4f8c-9532-9e4c5b3aa1cf"
      },
      "source": [
        "a = 12\n",
        "b = 100\n",
        "\n",
        "if b>a: print(\"b is less than a\")"
      ],
      "execution_count": 4,
      "outputs": [
        {
          "output_type": "stream",
          "name": "stdout",
          "text": [
            "b is less than a\n"
          ]
        }
      ]
    },
    {
      "cell_type": "markdown",
      "metadata": {
        "id": "d7uusl-rz5us"
      },
      "source": [
        "##Short Hand If Else"
      ]
    },
    {
      "cell_type": "code",
      "metadata": {
        "colab": {
          "base_uri": "https://localhost:8080/"
        },
        "id": "bWOsGpjdz98o",
        "outputId": "6965ed6b-de37-40c2-80ba-6ff3ad040779"
      },
      "source": [
        "a = 12\n",
        "b = 100\n",
        "\n",
        "print(\"A\") if b>a else print(\"b is less than a\")"
      ],
      "execution_count": 5,
      "outputs": [
        {
          "output_type": "stream",
          "name": "stdout",
          "text": [
            "A\n"
          ]
        }
      ]
    },
    {
      "cell_type": "markdown",
      "metadata": {
        "id": "jPabVSgB1P0R"
      },
      "source": [
        "##And Statement"
      ]
    },
    {
      "cell_type": "code",
      "metadata": {
        "colab": {
          "base_uri": "https://localhost:8080/"
        },
        "id": "aMbFBXvB1PLq",
        "outputId": "c7437d4e-697a-4f65-c9a3-f83cd3af3b4e"
      },
      "source": [
        "a = 1200\n",
        "b = 100\n",
        "c = 3000\n",
        "\n",
        "if a>b and c>a:\n",
        "  print(\"Both conditions are true\")"
      ],
      "execution_count": 6,
      "outputs": [
        {
          "output_type": "stream",
          "name": "stdout",
          "text": [
            "Both conditions are true\n"
          ]
        }
      ]
    },
    {
      "cell_type": "markdown",
      "metadata": {
        "id": "I3iXx2ul2ZJZ"
      },
      "source": [
        "##Or Statement"
      ]
    },
    {
      "cell_type": "code",
      "metadata": {
        "colab": {
          "base_uri": "https://localhost:8080/"
        },
        "id": "G7cIi9tA2bwJ",
        "outputId": "ea71fe99-9c98-423d-cd8d-6c4fe5fb1b0c"
      },
      "source": [
        "a = 1200\n",
        "b = 100\n",
        "c = 3000\n",
        "\n",
        "if a>b or c<a:\n",
        "  print(\"At least one of the condition is true\")"
      ],
      "execution_count": 7,
      "outputs": [
        {
          "output_type": "stream",
          "name": "stdout",
          "text": [
            "At least one of the condition is true\n"
          ]
        }
      ]
    },
    {
      "cell_type": "markdown",
      "metadata": {
        "id": "beYC2SYz3Cr3"
      },
      "source": [
        "##Nested If"
      ]
    },
    {
      "cell_type": "code",
      "metadata": {
        "colab": {
          "base_uri": "https://localhost:8080/"
        },
        "id": "VmV1U0qf3Ezw",
        "outputId": "050587cc-aed6-49ae-f796-d719c75c3400"
      },
      "source": [
        "x=123\n",
        "\n",
        "if x>10:\n",
        "  print(\"x is above 10, \")\n",
        "  if x>20:\n",
        "    print(\"and above 20!\")\n",
        "  else:\n",
        "    print(\"but not above 20.\")"
      ],
      "execution_count": 8,
      "outputs": [
        {
          "output_type": "stream",
          "name": "stdout",
          "text": [
            "x is above 10, \n",
            "and above 20!\n"
          ]
        }
      ]
    },
    {
      "cell_type": "markdown",
      "metadata": {
        "id": "HwmDX_hu4Ohp"
      },
      "source": [
        "##Nested If else"
      ]
    },
    {
      "cell_type": "code",
      "metadata": {
        "colab": {
          "base_uri": "https://localhost:8080/"
        },
        "id": "e5hMmISD4T3B",
        "outputId": "655b9675-ec6f-444a-ebb2-778bc28ec874"
      },
      "source": [
        "x=1\n",
        "\n",
        "if x>10:\n",
        "  print(\"x is above 10, \")\n",
        "  if x>20:\n",
        "    print(\"and above 20!\")\n",
        "  else:\n",
        "    print(\"but not above 20.\")\n",
        "else:\n",
        "  print(\"x is below 10\")"
      ],
      "execution_count": 9,
      "outputs": [
        {
          "output_type": "stream",
          "name": "stdout",
          "text": [
            "x is below 10\n"
          ]
        }
      ]
    },
    {
      "cell_type": "markdown",
      "metadata": {
        "id": "TNDlCMYa4xHA"
      },
      "source": [
        "#Example 1\n",
        "##Write a program that determines if the input age is qulified to vote or not. THe qualifying age is 18 years old and above."
      ]
    },
    {
      "cell_type": "code",
      "metadata": {
        "colab": {
          "base_uri": "https://localhost:8080/"
        },
        "id": "7sg3wA7743SI",
        "outputId": "cd65e470-d796-47dd-9b04-113318e35e99"
      },
      "source": [
        "Age = int(input(\"Age: \"))\n",
        "\n",
        "if Age >= 18:\n",
        "  print(\" You're Qualified to Vote\")\n",
        "else:\n",
        "  print(\"You're not Qualified to Vote\")"
      ],
      "execution_count": 17,
      "outputs": [
        {
          "output_type": "stream",
          "name": "stdout",
          "text": [
            "Age: 18\n",
            " You're Qualified to Vote\n"
          ]
        }
      ]
    },
    {
      "cell_type": "markdown",
      "metadata": {
        "id": "WCWdylTQ7iK_"
      },
      "source": [
        "#Example 2\n",
        "##Write a program that determines if the input number is POSITIVE or NEGATIVE. Consider 0 as positive."
      ]
    },
    {
      "cell_type": "code",
      "metadata": {
        "colab": {
          "base_uri": "https://localhost:8080/"
        },
        "id": "12M5zdoi72hJ",
        "outputId": "bc413c6d-2389-45b0-9039-a487cd6cd8a4"
      },
      "source": [
        "X = int(input(\"Enter a Number: \"))\n",
        "\n",
        "if X < 0:\n",
        "  print(\"That's a negative number\")\n",
        "else:\n",
        "  print(\"That's a positive number\")"
      ],
      "execution_count": 18,
      "outputs": [
        {
          "output_type": "stream",
          "name": "stdout",
          "text": [
            "Enter a Number: -1\n",
            "That's a negative number\n"
          ]
        }
      ]
    },
    {
      "cell_type": "markdown",
      "metadata": {
        "id": "dBHEsNNr-OcW"
      },
      "source": [
        "#Example 3\n",
        "##if:\n",
        "##grade >= 75 , passed\n",
        "##grade = 74 , Remedial\n",
        "##grade < 74 , passed"
      ]
    },
    {
      "cell_type": "code",
      "metadata": {
        "colab": {
          "base_uri": "https://localhost:8080/"
        },
        "id": "puEtBNKQ-14V",
        "outputId": "0f22fcb7-c6f5-45ab-fb85-2f7537613ff1"
      },
      "source": [
        "Grade = int(input(\"Grade: \"))\n",
        "\n",
        "if Grade >= 75:\n",
        "  print(\"You Passed!\")\n",
        "elif Grade == 74:\n",
        "  print(\"You have to take a Remedial/\")\n",
        "else:\n",
        "  print(\"You failed!\")"
      ],
      "execution_count": 16,
      "outputs": [
        {
          "output_type": "stream",
          "name": "stdout",
          "text": [
            "Grade: 75\n",
            "You Passed!\n"
          ]
        }
      ]
    }
  ]
}