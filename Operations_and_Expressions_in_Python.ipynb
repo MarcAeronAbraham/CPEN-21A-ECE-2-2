{
  "nbformat": 4,
  "nbformat_minor": 0,
  "metadata": {
    "colab": {
      "name": "Operations and Expressions in Python",
      "provenance": [],
      "authorship_tag": "ABX9TyNqdN034lRKS30imAkyPNtX",
      "include_colab_link": true
    },
    "kernelspec": {
      "name": "python3",
      "display_name": "Python 3"
    },
    "language_info": {
      "name": "python"
    }
  },
  "cells": [
    {
      "cell_type": "markdown",
      "metadata": {
        "id": "view-in-github",
        "colab_type": "text"
      },
      "source": [
        "<a href=\"https://colab.research.google.com/github/MarcAeronAbraham/CPEN-21A-ECE-2-2/blob/main/Operations_and_Expressions_in_Python.ipynb\" target=\"_parent\"><img src=\"https://colab.research.google.com/assets/colab-badge.svg\" alt=\"Open In Colab\"/></a>"
      ]
    },
    {
      "cell_type": "markdown",
      "metadata": {
        "id": "u5KONkjDsgbl"
      },
      "source": [
        "##Boolean Operators"
      ]
    },
    {
      "cell_type": "code",
      "metadata": {
        "id": "q0qwS2yjP6Dt",
        "colab": {
          "base_uri": "https://localhost:8080/"
        },
        "outputId": "039013ef-b277-4410-ad98-b24beecae83f"
      },
      "source": [
        "a=int(10)\n",
        "b=int(9)\n",
        "print(10>9)\n",
        "print(10==9)\n",
        "print(10<9)\n",
        "print(a>b)\n",
        "print(a==b)\n",
        "print(a<b)"
      ],
      "execution_count": 4,
      "outputs": [
        {
          "output_type": "stream",
          "name": "stdout",
          "text": [
            "True\n",
            "False\n",
            "False\n",
            "True\n",
            "False\n",
            "False\n"
          ]
        }
      ]
    },
    {
      "cell_type": "code",
      "metadata": {
        "colab": {
          "base_uri": "https://localhost:8080/"
        },
        "id": "KYS3WsxruK6u",
        "outputId": "d02c6b90-0aed-44c0-d6ae-0cfc043347e3"
      },
      "source": [
        "print(bool(\"Hi\"))\n",
        "print(bool(99))\n",
        "print(bool(True))\n",
        "print(bool(False))\n",
        "print(bool())\n",
        "print(bool(0))"
      ],
      "execution_count": 7,
      "outputs": [
        {
          "output_type": "stream",
          "name": "stdout",
          "text": [
            "True\n",
            "True\n",
            "True\n",
            "False\n",
            "False\n",
            "False\n"
          ]
        }
      ]
    },
    {
      "cell_type": "code",
      "metadata": {
        "colab": {
          "base_uri": "https://localhost:8080/"
        },
        "id": "5M0Ha8puvAjG",
        "outputId": "4649c16f-bc81-4ec5-f305-5fc914bf228e"
      },
      "source": [
        "def myfunction():\n",
        "  return True\n",
        "\n",
        "print(myfunction())"
      ],
      "execution_count": 9,
      "outputs": [
        {
          "output_type": "stream",
          "name": "stdout",
          "text": [
            "True\n"
          ]
        }
      ]
    },
    {
      "cell_type": "code",
      "metadata": {
        "colab": {
          "base_uri": "https://localhost:8080/"
        },
        "id": "MPDtyyhUvcrk",
        "outputId": "edf4596b-8a36-4db3-ef8a-b7e5716beef8"
      },
      "source": [
        "def myfunction():\n",
        "  return True\n",
        "\n",
        "if(myfunction()):\n",
        "  print(\"Yes\")\n",
        "else:\n",
        "  print(\"No\")"
      ],
      "execution_count": 16,
      "outputs": [
        {
          "output_type": "stream",
          "name": "stdout",
          "text": [
            "Yes\n"
          ]
        }
      ]
    },
    {
      "cell_type": "code",
      "metadata": {
        "colab": {
          "base_uri": "https://localhost:8080/"
        },
        "id": "68U4j2ldwH3d",
        "outputId": "8560ea45-ee9e-4e43-ec0f-54448172a9c7"
      },
      "source": [
        "print(10>9)\n",
        "\n",
        "a=6\n",
        "b=7\n",
        "print(a==b)\n",
        "print(a!=a)"
      ],
      "execution_count": 18,
      "outputs": [
        {
          "output_type": "stream",
          "name": "stdout",
          "text": [
            "True\n",
            "False\n",
            "False\n"
          ]
        }
      ]
    },
    {
      "cell_type": "markdown",
      "metadata": {
        "id": "7b6ePDtzw5Ux"
      },
      "source": [
        "##Python Operators"
      ]
    },
    {
      "cell_type": "code",
      "metadata": {
        "colab": {
          "base_uri": "https://localhost:8080/"
        },
        "id": "Jyf3Nkg2wz1c",
        "outputId": "90e4f464-09be-4a34-e9ce-5c8c5733de23"
      },
      "source": [
        "print(10+5)\n",
        "print(10-5)\n",
        "print(10*5)\n",
        "print(10/5)\n",
        "print(10%5)\n",
        "print(10//3)\n",
        "print(10**2)"
      ],
      "execution_count": 22,
      "outputs": [
        {
          "output_type": "stream",
          "name": "stdout",
          "text": [
            "15\n",
            "5\n",
            "50\n",
            "2.0\n",
            "0\n",
            "3\n",
            "100\n"
          ]
        }
      ]
    },
    {
      "cell_type": "markdown",
      "metadata": {
        "id": "1oeYLIBQydMT"
      },
      "source": [
        "##Bitwise Operators"
      ]
    },
    {
      "cell_type": "code",
      "metadata": {
        "colab": {
          "base_uri": "https://localhost:8080/"
        },
        "id": "lJ5NZtvzyAPj",
        "outputId": "07ce6a4e-04c5-40db-cf59-f594db77a260"
      },
      "source": [
        "a=60 #0011 0011\n",
        "b=13 #\n",
        "print(a^b)\n",
        "print(~a)\n",
        "print(a<<2) #1111 0000\n",
        "print(a>>2) #0000 1111"
      ],
      "execution_count": 31,
      "outputs": [
        {
          "output_type": "stream",
          "name": "stdout",
          "text": [
            "49\n",
            "-61\n",
            "240\n",
            "15\n"
          ]
        }
      ]
    },
    {
      "cell_type": "markdown",
      "metadata": {
        "id": "OAAwGbLc0zOq"
      },
      "source": [
        "##Assignment Operators"
      ]
    },
    {
      "cell_type": "code",
      "metadata": {
        "colab": {
          "base_uri": "https://localhost:8080/"
        },
        "id": "2_h0yL8T07nK",
        "outputId": "b5107cde-c508-4378-f4b1-c75298eaeede"
      },
      "source": [
        "x=2\n",
        "x+=3 #Same as X= x+3\n",
        "\n",
        "print(x)\n",
        "\n",
        "x"
      ],
      "execution_count": 35,
      "outputs": [
        {
          "output_type": "stream",
          "name": "stdout",
          "text": [
            "5\n"
          ]
        },
        {
          "output_type": "execute_result",
          "data": {
            "text/plain": [
              "5"
            ]
          },
          "metadata": {},
          "execution_count": 35
        }
      ]
    },
    {
      "cell_type": "markdown",
      "metadata": {
        "id": "giHajayj2gSr"
      },
      "source": [
        "##Logical Operators"
      ]
    },
    {
      "cell_type": "code",
      "metadata": {
        "colab": {
          "base_uri": "https://localhost:8080/"
        },
        "id": "DQklqK-r2oz6",
        "outputId": "fad9d9a9-85c9-4955-ce94-a2bc48cd960d"
      },
      "source": [
        "x=5\n",
        "print(x<3 and x>5)"
      ],
      "execution_count": 39,
      "outputs": [
        {
          "output_type": "stream",
          "name": "stdout",
          "text": [
            "False\n"
          ]
        }
      ]
    },
    {
      "cell_type": "code",
      "metadata": {
        "colab": {
          "base_uri": "https://localhost:8080/"
        },
        "id": "gGk8uGa43jfT",
        "outputId": "6d32d13e-ccde-4f37-f8a9-c87c1f0f3c82"
      },
      "source": [
        "a=5\n",
        "b=6\n",
        "\n",
        "print(a>b and a==b)\n",
        "a<b or a==b\n"
      ],
      "execution_count": 42,
      "outputs": [
        {
          "output_type": "stream",
          "name": "stdout",
          "text": [
            "False\n"
          ]
        },
        {
          "output_type": "execute_result",
          "data": {
            "text/plain": [
              "True"
            ]
          },
          "metadata": {},
          "execution_count": 42
        }
      ]
    },
    {
      "cell_type": "markdown",
      "metadata": {
        "id": "VzLcPNJL4IBZ"
      },
      "source": [
        "##Identity Operators"
      ]
    },
    {
      "cell_type": "code",
      "metadata": {
        "colab": {
          "base_uri": "https://localhost:8080/"
        },
        "id": "8XvnEY7Y4V3y",
        "outputId": "e093a9b8-e824-441e-c136-5b2db75d42d4"
      },
      "source": [
        "print(a is b)\n",
        "a is not b"
      ],
      "execution_count": 43,
      "outputs": [
        {
          "output_type": "stream",
          "name": "stdout",
          "text": [
            "False\n"
          ]
        },
        {
          "output_type": "execute_result",
          "data": {
            "text/plain": [
              "True"
            ]
          },
          "metadata": {},
          "execution_count": 43
        }
      ]
    }
  ]
}