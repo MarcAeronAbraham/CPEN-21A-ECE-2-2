{
  "nbformat": 4,
  "nbformat_minor": 0,
  "metadata": {
    "colab": {
      "name": "Lab1.ipynb",
      "provenance": [],
      "authorship_tag": "ABX9TyOtln5665dnvsnn/9uahXkF",
      "include_colab_link": true
    },
    "kernelspec": {
      "name": "python3",
      "display_name": "Python 3"
    },
    "language_info": {
      "name": "python"
    }
  },
  "cells": [
    {
      "cell_type": "markdown",
      "metadata": {
        "id": "view-in-github",
        "colab_type": "text"
      },
      "source": [
        "<a href=\"https://colab.research.google.com/github/MarcAeronAbraham/CPEN-ECE-2-2/blob/main/Lab1.ipynb\" target=\"_parent\"><img src=\"https://colab.research.google.com/assets/colab-badge.svg\" alt=\"Open In Colab\"/></a>"
      ]
    },
    {
      "cell_type": "markdown",
      "metadata": {
        "id": "3UDXduljcOQO"
      },
      "source": [
        "#Laboratory 1\n",
        "\n",
        "\n",
        "\n"
      ]
    },
    {
      "cell_type": "code",
      "metadata": {
        "colab": {
          "base_uri": "https://localhost:8080/"
        },
        "id": "9KDanFE1g8MC",
        "outputId": "d8954e47-893a-499d-e337-875fa8c1dfde"
      },
      "source": [
        "print(\"Welcome to Python Programming\")"
      ],
      "execution_count": 28,
      "outputs": [
        {
          "output_type": "stream",
          "name": "stdout",
          "text": [
            "Welcome to Python Programming\n"
          ]
        }
      ]
    },
    {
      "cell_type": "code",
      "metadata": {
        "colab": {
          "base_uri": "https://localhost:8080/"
        },
        "id": "m1zxc7o6bpT2",
        "outputId": "c28f49c4-ff58-4d07-9a50-3286271dcbb4"
      },
      "source": [
        "LastName=\"Abraham\"\n",
        "FirstName= 'Marc Aeron'\n",
        "MiddleInitial= 'F.'\n",
        "print(\"Name: \"+FirstName+\" \"+MiddleInitial+\" \"+LastName)"
      ],
      "execution_count": 29,
      "outputs": [
        {
          "output_type": "stream",
          "name": "stdout",
          "text": [
            "Name: Marc Aeron F. Abraham\n"
          ]
        }
      ]
    },
    {
      "cell_type": "code",
      "metadata": {
        "colab": {
          "base_uri": "https://localhost:8080/"
        },
        "id": "EnT6Um1xd8xk",
        "outputId": "41b47c04-32f6-44b8-babd-27a9b8a812b1"
      },
      "source": [
        "Address=\"Pamela Homes Subd., Langkaan 1, Dasmariñas, Cavite\"\n",
        "print(\"Address: \"+Address)"
      ],
      "execution_count": 30,
      "outputs": [
        {
          "output_type": "stream",
          "name": "stdout",
          "text": [
            "Address: Pamela Homes Subd., Langkaan 1, Dasmariñas, Cavite\n"
          ]
        }
      ]
    },
    {
      "cell_type": "code",
      "metadata": {
        "colab": {
          "base_uri": "https://localhost:8080/"
        },
        "id": "6HIq6EwLelFO",
        "outputId": "e273b5c0-0b07-47b0-a761-a3fbb6c5626f"
      },
      "source": [
        "Age=\"19 years old\"\n",
        "print(\"Age: \" +Age)"
      ],
      "execution_count": 27,
      "outputs": [
        {
          "output_type": "stream",
          "name": "stdout",
          "text": [
            "Age: 19 years old\n"
          ]
        }
      ]
    }
  ]
}